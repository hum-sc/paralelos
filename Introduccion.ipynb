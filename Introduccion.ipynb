{
 "cells": [
  {
   "attachments": {},
   "cell_type": "markdown",
   "id": "2e8c1e03-9dbc-40eb-817a-0c21b4ae6595",
   "metadata": {},
   "source": [
    "# Introducción\n",
    "## Los grandes retos\n",
    "Estamos en medio de una explosión de información. Todo en nuestras vidas se está instrumentando y conectando en tiempo real con el Internet de las Cosas (IoT), desde nuestra biología hasta el medio ambiente. Dicen algunos, que está proyectado que para el año 2020, los datos del mundo crecerán más que un factor de 10 respecto a los datos actuales a una cantidad asombrosa de 44 ZB (Zetta Bytes). Un ZB es equivalente a 250 billones de DVDs.\n",
    "\n",
    "Para procesar este volumen de datos a una velocidad aceptable, necesitamos utilizar una gran cantidad de cómputo, de memoria y de recursos de disco. Además de que necesitamos simular muchos fenómenos naturales, sociales y financieros. \n",
    "\n",
    "## ¿Cómo incrementamos el rendimiento de nuestra tecnología?\n",
    "1. Trabajar más duro (Hardware más rapido).\n",
    "2. Trabajar más inteligentemente (Algoritmos más eficientes).\n",
    "3. Pedir ayuda (cómputo paralelo)\n",
    "\n",
    "## Arquitecturas paralelas\n",
    "**Flujo de instrucciones**: Secuencia de instrucciones ejecutadas por la unidad de procesamiento.\n",
    "\n",
    "**Flujo de datos** Tráfico de datos intercambiados entre la memoria y la unidad de procesamiento.\n",
    "### Taxonomía de Flynn\n",
    "\n",
    "![Flynn's taxonomy of computer architectures](./images/flynn.png)\n",
    "\n",
    "Esta imagen nos muestra la taxonomía más popular de arquitectura de computadoras, definida por Michael J. Flynn en 1966\n",
    "\n",
    "|Acronimo|Significado|\n",
    "|--|--|\n",
    "|SISD|Single Instruction Stream, Single Data Stream|\n",
    "|SIMD|Single Instruction Stream, Multiple Data Stream|\n",
    "|MISD|Multiple Instruction Stream, Single Data Stream|\n",
    "|MIMD|Multiple Instruction Stream, Multiple Data Stream|\n",
    "### Taxonomía de Tanembaum\n",
    "![Taxonomía de Tanebaum](./images/tanembaum.png)\n",
    "\n",
    "#### Multiprocesadores (Máquinass de memoria compartida)\n",
    "- Uniform Memory Access\n",
    "    Cada procesador tiene el mismo tiempo de acceso para cada módulo de memoria.\n",
    "- NonUniform Memory Access\n",
    "    Hay módulos de memoria más cerca a cada CPU y el acceso a dicho módulo es mucho más rapido que los que están distantes.\n",
    "- Cache Only Memory Access\n",
    "    Tambien son non-uniforme pero de una manera diferente.\n",
    "#### Multicoputadoras (Maquinas de memoria distribuida)\n",
    "Se tienen que enviar mensajes explícitos y esperar por la respuesta.\n",
    "- Massively PArallel Processors\n",
    "    Son supercomputadoras muy caras que consisten en muchos CPUs fuertemente acoplados, red de interconexión propietaria de alta velocidad\n",
    "- NOW, COW o cluster\n",
    "    PCs Regulares, Workstations o servidores montados en rack y conectados mediante una tecnología de interconexión comercial\n",
    "\n",
    "## Programación de computadoras paralelas\n",
    "McGraw y Axelrod identificaron 4 formas:\n",
    "1. Extender o enriquecer un compilador existente para que traducir programas.\n",
    "    - Se ha usado mucho sobre FORTRAN, dado a los costos de las inversiones hechas.\n",
    "2. Extender o enriquecer un lenguaje existente (Usar librerias).\n",
    "    - \n",
    "3. Agregar una capa de lenguaje paralelo encima de uno secuencial existente.\n",
    "4. Definir totalmente un nuevo lenguaje como su compilador\n",
    "\n",
    "## Diseño de algoritmos paralelos\n",
    "**Ian Foster** ha propuesto un proceso de cuatro pasos para el diseño de algoritmos paralelos.\n",
    "1. Partición\n",
    "2. Comunicación\n",
    "3. Aglomeración\n",
    "4. Mapeo\n",
    "\n",
    "Los primeros dos estados se enfocan en la CONCURRENCIA y ESCALABILIDAD e intentan descubrir algoritmo en estas cualidades.\n",
    "\n",
    "El computo que va realizado se descompone en pequeñas tareas (Particion).\n",
    "\n",
    "Se determina la comunicación requerida para coordinar la ejecucion de tareas, definir los algoritmos y las estructuras de comunicación apropiadas.\n",
    "\n",
    "Se evalua cada tarea y estructuras de comunicación, dependiendo el costo-beneficio de implementación. Si es necesario, las tareas s combinan para mejorar el desempeño o reducir los costos de desarrollo.\n",
    "\n",
    "Cada tarea se asigna a un procesador de tal manera que satisfaga el objetivo de maximizar el uso de procesadores y minimizar los costos de comunicación. El mapeo puede ser estático o dinámico"
   ]
  },
  {
   "cell_type": "code",
   "execution_count": 6,
   "id": "65a500c3-04e0-42b4-9d06-31576d468dcc",
   "metadata": {
    "vscode": {
     "languageId": "c"
    }
   },
   "outputs": [
    {
     "name": "stdout",
     "output_type": "stream",
     "text": [
      "Hola Mundo"
     ]
    }
   ],
   "source": [
    "    printf(\"Hola Mundo\");"
   ]
  }
 ],
 "metadata": {
  "kernelspec": {
   "display_name": "C++17",
   "language": "C++17",
   "name": "xcpp17"
  },
  "language_info": {
   "file_extension": ".c",
   "mimetype": "text/x-csrc",
   "name": "C++17"
  }
 },
 "nbformat": 4,
 "nbformat_minor": 5
}
