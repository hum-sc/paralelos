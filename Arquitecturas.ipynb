{
 "cells": [
  {
   "attachments": {},
   "cell_type": "markdown",
   "metadata": {},
   "source": [
    "# Arquitecturas Paralelas\n",
    ">**Flujo de instrucciones**: Secuencia de instrucciones ejecutadas por la unidad de procesamiento.\n",
    "\n",
    ">**Flujo de datos** Tráfico de datos intercambiados entre la memoria y la unidad de procesamiento.\n",
    "## Taxonomía de Flynn\n",
    "\n",
    "![Flynn's taxonomy of computer architectures](./images/flynn.png)\n",
    "\n",
    "Esta imagen nos muestra la taxonomía más popular de arquitectura de computadoras, definida por Michael J. Flynn en 1966\n",
    "\n",
    "|Acronimo|Significado|\n",
    "|--|--|\n",
    "|SISD|Single Instruction Stream, Single Data Stream|\n",
    "|SIMD|Single Instruction Stream, Multiple Data Stream|\n",
    "|MISD|Multiple Instruction Stream, Single Data Stream|\n",
    "|MIMD|Multiple Instruction Stream, Multiple Data Stream|\n",
    "## Taxonomía de Tanembaum\n",
    "![Taxonomía de Tanebaum](./images/tanembaum.png)\n",
    "\n",
    "### Multiprocesadores (Máquinass de memoria compartida)\n",
    "- Uniform Memory Access\n",
    "    Cada procesador tiene el mismo tiempo de acceso para cada módulo de memoria.\n",
    "- NonUniform Memory Access\n",
    "    Hay módulos de memoria más cerca a cada CPU y el acceso a dicho módulo es mucho más rapido que los que están distantes.\n",
    "- Cache Only Memory Access\n",
    "    Tambien son non-uniforme pero de una manera diferente.\n",
    "### Multicoputadoras (Maquinas de memoria distribuida)\n",
    "Se tienen que enviar mensajes explícitos y esperar por la respuesta.\n",
    "- Massively PArallel Processors\n",
    "    Son supercomputadoras muy caras que consisten en muchos CPUs fuertemente acoplados, red de interconexión propietaria de alta velocidad\n",
    "- NOW, COW o cluster\n",
    "    PCs Regulares, Workstations o servidores montados en rack y conectados mediante una tecnología de interconexión comercial\n",
    "\n",
    "## Arquitectura SMP\n",
    "> Symetric Multi-Processing\n",
    "- Múltiples procesadores comparten el mismo sistema de memoria y los mismos recursos de E/S.\n",
    "- El compartimiento está acompañado de un `bus de alta velocidad`.\n",
    "- Una copia del S.O. corre en la computadora de manera independiente ó cooperativamente, simultáneamente.\n",
    "- Todos los procesadores se tratan iguales.\n",
    "- Las aplicaciones se dividen en hilos.\n",
    "- Cualquiera de los procesadores puede correr el núcleo del S.O.\n",
    "- Tecnología UMA (Uniform Memory Access).\n",
    "\n",
    "### Ventajas\n",
    "- Fácil de escalar.\n",
    "- Software monoprocesador trabaja sin ninguna modificación.\n",
    "- Tecnología madura y ampliamente usada.\n",
    "- S.O. muy similar a un sistema monoprocesador.\n",
    "\n",
    "### Desventaja\n",
    "- El BUS se satura.\n",
    "- El S.O. es un punto de fallo.\n"
   ]
  }
 ],
 "metadata": {
  "kernelspec": {
   "display_name": "Python 3",
   "language": "python",
   "name": "python3"
  },
  "language_info": {
   "name": "python",
   "version": "3.10.6"
  },
  "orig_nbformat": 4,
  "vscode": {
   "interpreter": {
    "hash": "916dbcbb3f70747c44a77c7bcd40155683ae19c65e1c03b4aa3499c5328201f1"
   }
  }
 },
 "nbformat": 4,
 "nbformat_minor": 2
}
